{
 "cells": [
  {
   "cell_type": "code",
   "execution_count": 8,
   "metadata": {},
   "outputs": [
    {
     "name": "stdout",
     "output_type": "stream",
     "text": [
      "\n",
      "------------------------------------------------------------------\n",
      "\n",
      "\n",
      "8 ♢ ♢ ♢ ♢ \u001b[36m\u001b[1m♖\u001b[0m ♢ ♢ ♢\n",
      "7 ♢ ♢ ♢ ♢ ♢ ♢ ♢ ♢   \n",
      "6 ♢ ♢ ♢ ♢ ♢ ♢ ♢ ♢\n",
      "5 ♢ ♢ ♢ ♢ ♢ ♢ ♢ ♢\n",
      "4 ♢ ♢ ♢ ♢ ♢ ♢ ♢ ♢\n",
      "3 ♢ ♢ ♢ ♢ ♛ ♢ ♢ ♢\n",
      "2 ♢ ♢ ♢ ♢ ♚ ♢ ♢ ♢\n",
      "1 ♢ ♢ ♢ ♢ ♢ ♢ ♢ ♢   \n",
      "  A B C D E F G H\n",
      "\n",
      "------------------------------------------------------------------\n",
      "\n"
     ]
    }
   ],
   "source": [
    "from ai.evaluations.hueristic import Hueristic\n",
    "from utils import display\n",
    "import chess\n",
    "\n",
    "sep = '-'*20\n",
    "f = Hueristic()\n",
    "b = chess.Board(fen = '4r3/8/8/8/8/4Q3/4K3/8 w - - 0 1')\n",
    "\n",
    "display(b)\n",
    "\n",
    "f.set(b)"
   ]
  },
  {
   "cell_type": "code",
   "execution_count": 9,
   "metadata": {},
   "outputs": [
    {
     "name": "stdout",
     "output_type": "stream",
     "text": [
      ". . . . 1 . . .\n",
      "1 . . . 1 . . .\n",
      ". 1 . . 1 . . 1\n",
      ". . 1 . 1 . 1 .\n",
      ". . . 1 1 1 . .\n",
      "1 1 1 1 1 1 1 1\n",
      ". . . 1 1 1 . .\n",
      ". . 1 1 1 1 1 .\n",
      "--------------------\n",
      ". . . . 1 . . .\n",
      "1 . . . 1 . . .\n",
      ". 1 . . 1 . . 1\n",
      ". . 1 . 1 . 1 .\n",
      ". . . 1 1 1 . .\n",
      "1 1 1 1 . 1 1 1\n",
      ". . . 1 1 1 . .\n",
      ". . 1 . . . 1 .\n"
     ]
    }
   ],
   "source": [
    "# Attack maps\n",
    "\n",
    "print(f.attackedBy[chess.WHITE]['all'])\n",
    "print(sep)\n",
    "print(f.attackedBy[chess.WHITE][chess.QUEEN])"
   ]
  },
  {
   "cell_type": "code",
   "execution_count": 10,
   "metadata": {},
   "outputs": [
    {
     "name": "stdout",
     "output_type": "stream",
     "text": [
      ". . . . . . . .\n",
      ". . . . . . . .\n",
      ". . . . . . . .\n",
      ". . . . . . . .\n",
      ". . . . . . . .\n",
      ". . . 1 1 1 . .\n",
      ". . . 1 1 1 . .\n",
      ". . . 1 1 1 . .\n"
     ]
    }
   ],
   "source": [
    "# King Ring\n",
    "print(f.kingRing[chess.WHITE])"
   ]
  },
  {
   "cell_type": "code",
   "execution_count": null,
   "metadata": {},
   "outputs": [],
   "source": []
  }
 ],
 "metadata": {
  "kernelspec": {
   "display_name": "virtual_env_py37",
   "language": "python",
   "name": "python3"
  },
  "language_info": {
   "codemirror_mode": {
    "name": "ipython",
    "version": 3
   },
   "file_extension": ".py",
   "mimetype": "text/x-python",
   "name": "python",
   "nbconvert_exporter": "python",
   "pygments_lexer": "ipython3",
   "version": "3.7.5"
  },
  "orig_nbformat": 4
 },
 "nbformat": 4,
 "nbformat_minor": 2
}
