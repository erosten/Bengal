{
 "cells": [
  {
   "cell_type": "code",
   "execution_count": 1,
   "metadata": {},
   "outputs": [
    {
     "name": "stdout",
     "output_type": "stream",
     "text": [
      "\n",
      "------------------------------------------------------------------\n",
      "\n",
      "\n",
      "8 ♢ ♢ ♢ ♢ \u001b[36m\u001b[1m♖\u001b[0m ♢ ♢ ♢\n",
      "7 ♢ ♢ ♢ ♢ ♢ ♢ ♢ ♢   \n",
      "6 ♢ ♢ ♢ ♢ ♢ ♢ ♢ ♢\n",
      "5 ♢ ♢ ♢ ♢ ♢ ♢ ♢ ♢\n",
      "4 ♢ ♢ ♢ ♢ ♢ ♢ ♢ ♢\n",
      "3 ♢ ♢ ♢ ♢ ♛ ♢ ♢ ♢\n",
      "2 ♢ ♢ ♢ ♢ ♚ ♢ ♢ ♢\n",
      "1 ♢ ♢ ♢ ♢ ♢ ♢ ♢ ♢   \n",
      "  A B C D E F G H\n",
      "\n",
      "------------------------------------------------------------------\n",
      "\n"
     ]
    }
   ],
   "source": [
    "from ai.evaluations.hueristic import Hueristic\n",
    "from utils import display\n",
    "import chess\n",
    "from chess import SquareSet as ss\n",
    "\n",
    "sep = '-'*20\n",
    "f = Hueristic()\n",
    "b = chess.Board(fen = '4r3/8/8/8/8/4Q3/4K3/8 w - - 0 1')\n",
    "\n",
    "display(b)\n",
    "\n",
    "f.set(b)"
   ]
  },
  {
   "cell_type": "code",
   "execution_count": 2,
   "metadata": {},
   "outputs": [
    {
     "name": "stdout",
     "output_type": "stream",
     "text": [
      ". . . . 1 . . .\n",
      "1 . . . 1 . . .\n",
      ". 1 . . 1 . . 1\n",
      ". . 1 . 1 . 1 .\n",
      ". . . 1 1 1 . .\n",
      "1 1 1 1 1 1 1 1\n",
      ". . . 1 1 1 . .\n",
      ". . 1 1 1 1 1 .\n",
      "--------------------\n",
      ". . . . 1 . . .\n",
      "1 . . . 1 . . .\n",
      ". 1 . . 1 . . 1\n",
      ". . 1 . 1 . 1 .\n",
      ". . . 1 1 1 . .\n",
      "1 1 1 1 . 1 1 1\n",
      ". . . 1 1 1 . .\n",
      ". . 1 . . . 1 .\n"
     ]
    }
   ],
   "source": [
    "# Attack maps\n",
    "\n",
    "print(f.attackedBy[chess.WHITE]['all'])\n",
    "print(sep)\n",
    "print(f.attackedBy[chess.WHITE][chess.QUEEN])"
   ]
  },
  {
   "cell_type": "code",
   "execution_count": 3,
   "metadata": {},
   "outputs": [
    {
     "name": "stdout",
     "output_type": "stream",
     "text": [
      ". . . . . . . .\n",
      ". . . . . . . .\n",
      ". . . . . . . .\n",
      ". . . . . . . .\n",
      ". . . . . . . .\n",
      ". . . 1 1 1 . .\n",
      ". . . 1 1 1 . .\n",
      ". . . 1 1 1 . .\n"
     ]
    }
   ],
   "source": [
    "# King Ring\n",
    "print(f.kingRing[chess.WHITE])"
   ]
  },
  {
   "cell_type": "code",
   "execution_count": 4,
   "metadata": {},
   "outputs": [
    {
     "name": "stdout",
     "output_type": "stream",
     "text": [
      "\n",
      "------------------------------------------------------------------\n",
      "\n",
      "\n",
      "8 \u001b[36m\u001b[1m♖\u001b[0m \u001b[36m\u001b[1m♘\u001b[0m \u001b[36m\u001b[1m♗\u001b[0m \u001b[36m\u001b[1m♕\u001b[0m \u001b[36m\u001b[1m♔\u001b[0m \u001b[36m\u001b[1m♗\u001b[0m \u001b[36m\u001b[1m♘\u001b[0m \u001b[36m\u001b[1m♖\u001b[0m\n",
      "7 \u001b[36m\u001b[1m♙\u001b[0m \u001b[36m\u001b[1m♙\u001b[0m \u001b[36m\u001b[1m♙\u001b[0m \u001b[36m\u001b[1m♙\u001b[0m \u001b[36m\u001b[1m♙\u001b[0m \u001b[36m\u001b[1m♙\u001b[0m \u001b[36m\u001b[1m♙\u001b[0m \u001b[36m\u001b[1m♙\u001b[0m   \n",
      "6 ♢ ♢ ♢ ♢ ♢ ♢ ♢ ♢\n",
      "5 ♢ ♢ ♢ ♢ ♢ ♢ ♢ ♢\n",
      "4 ♢ ♢ ♢ ♢ ♢ ♢ ♢ ♢\n",
      "3 ♢ ♢ ♢ ♢ ♢ ♢ ♢ ♢\n",
      "2 ♟ ♟ ♟ ♟ ♟ ♟ ♟ ♟\n",
      "1 ♜ ♞ ♝ ♛ ♚ ♝ ♞ ♜   \n",
      "  A B C D E F G H\n",
      "\n",
      "------------------------------------------------------------------\n",
      "\n",
      "white mobility: 46\n",
      "1 1 1 1 1 1 1 1\n",
      "1 1 1 1 1 1 1 1\n",
      ". . . . . . . .\n",
      "1 1 1 1 1 1 1 1\n",
      "1 1 1 1 1 1 1 1\n",
      "1 1 1 1 1 1 1 1\n",
      ". . . . . . . .\n",
      "1 1 1 . . 1 1 1\n",
      "[4, 0, 2, 1]\n",
      "-55\n",
      "black mobility: 46\n",
      "1 1 1 . . 1 1 1\n",
      ". . . . . . . .\n",
      "1 1 1 1 1 1 1 1\n",
      "1 1 1 1 1 1 1 1\n",
      "1 1 1 1 1 1 1 1\n",
      ". . . . . . . .\n",
      "1 1 1 1 1 1 1 1\n",
      "1 1 1 1 1 1 1 1\n",
      "[4, 0, 2, 1]\n",
      "-55\n",
      "--------------------\n",
      "2\n"
     ]
    }
   ],
   "source": [
    "# mobility area\n",
    "sep = '-'*20\n",
    "f = Hueristic()\n",
    "b = chess.Board(fen = 'rnbqkbnr/pppppppp/8/8/8/8/PPPPPPPP/RNBQKBNR w KQkq - 0 1')\n",
    "c = chess.WHITE\n",
    "display(b)\n",
    "f.set(b)\n",
    "\n",
    "print(f'white mobility: {len(f.mobility_area[True])}')\n",
    "print(f.mobility_area[True])\n",
    "print(f._mobility_mg_color(True))\n",
    "print(f'black mobility: {len(f.mobility_area[False])}')\n",
    "print(f.mobility_area[False])\n",
    "print(f._mobility_mg_color(False))\n",
    "\n",
    "print(sep)\n",
    "print(len(f.pieces[True][chess.KNIGHT]))\n",
    "# print(f.attackedBy[True][chess.ROOK] & f.mobility_area[True])\n",
    "# print(sep)\n",
    "# print(f.attackedBy[True][chess.KNIGHT] & f.mobility_area[True] & ~f.pieces[True][chess.QUEEN])\n",
    "# print(sep)\n",
    "# print(f.attackedBy[True][chess.BISHOP] & f.mobility_area[True] & ~f.pieces[True][chess.QUEEN])\n",
    "# print(sep)\n",
    "# c=True\n",
    "# print(f.mobility_area[True] & f.attackedBy[c][chess.QUEEN] & ~(f.attackedBy[not c][chess.KNIGHT] | f.attackedBy[not c][chess.BISHOP] | f.attackedBy[not c][chess.ROOK]))"
   ]
  }
 ],
 "metadata": {
  "kernelspec": {
   "display_name": "virtual_env_py37",
   "language": "python",
   "name": "python3"
  },
  "language_info": {
   "codemirror_mode": {
    "name": "ipython",
    "version": 3
   },
   "file_extension": ".py",
   "mimetype": "text/x-python",
   "name": "python",
   "nbconvert_exporter": "python",
   "pygments_lexer": "ipython3",
   "version": "3.7.5"
  },
  "orig_nbformat": 4
 },
 "nbformat": 4,
 "nbformat_minor": 2
}
