{
 "cells": [
  {
   "cell_type": "code",
   "execution_count": 2,
   "metadata": {},
   "outputs": [
    {
     "name": "stdout",
     "output_type": "stream",
     "text": [
      "\n",
      "------------------------------------------------------------------\n",
      "\n",
      "\n",
      "8 ♢ ♢ ♢ ♢ ♢ \u001b[36m\u001b[1m♘\u001b[0m ♢ ♢\n",
      "7 ♢ ♢ ♢ ♜ \u001b[36m\u001b[1m♗\u001b[0m ♢ ♢ ♢   \n",
      "6 ♢ ♢ ♢ ♢ ♢ ♢ ♢ ♢\n",
      "5 ♢ ♢ ♢ ♢ ♢ ♢ ♢ ♢\n",
      "4 ♢ ♢ ♢ ♢ ♢ ♢ ♢ ♢\n",
      "3 ♢ ♢ ♢ ♢ ♢ ♢ ♢ ♢\n",
      "2 ♢ ♢ ♢ ♢ ♜ ♝ ♞ ♟\n",
      "1 ♢ ♢ ♢ ♢ ♢ ♢ ♢ ♢   \n",
      "  A B C D E F G H\n",
      "\n",
      "------------------------------------------------------------------\n",
      "\n",
      "7.0\n"
     ]
    }
   ],
   "source": [
    "import sys, os\n",
    "sys.path.append(os.path.dirname(os.path.abspath('')))\n",
    "from src.hueristic import Hueristic\n",
    "from src.board_state import BoardState\n",
    "from src.utils import display\n",
    "import chess\n",
    "from chess import SquareSet as ss\n",
    "\n",
    "sep = '-'*20\n",
    "f = Hueristic()\n",
    "b = BoardState(fen='5n2/3Rb3/8/8/8/8/4RBNP/8 w - - 0 1')\n",
    "c = chess.WHITE\n",
    "display(b)\n",
    "f.set(b)\n",
    "\n",
    "print(f._pst_score())"
   ]
  }
 ],
 "metadata": {
  "kernelspec": {
   "display_name": "virtual_env_py37",
   "language": "python",
   "name": "python3"
  },
  "language_info": {
   "codemirror_mode": {
    "name": "ipython",
    "version": 3
   },
   "file_extension": ".py",
   "mimetype": "text/x-python",
   "name": "python",
   "nbconvert_exporter": "python",
   "pygments_lexer": "ipython3",
   "version": "3.7.5"
  },
  "orig_nbformat": 4
 },
 "nbformat": 4,
 "nbformat_minor": 2
}
