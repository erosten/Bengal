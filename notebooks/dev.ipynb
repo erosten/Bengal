{
 "cells": [
  {
   "cell_type": "code",
   "execution_count": 6,
   "metadata": {},
   "outputs": [
    {
     "name": "stdout",
     "output_type": "stream",
     "text": [
      "\n",
      "------------------------------------------------------------------\n",
      "\n",
      "\n",
      "8 \u001b[36m\u001b[1m♖\u001b[0m \u001b[36m\u001b[1m♘\u001b[0m \u001b[36m\u001b[1m♗\u001b[0m \u001b[36m\u001b[1m♕\u001b[0m \u001b[36m\u001b[1m♔\u001b[0m \u001b[36m\u001b[1m♗\u001b[0m \u001b[36m\u001b[1m♘\u001b[0m \u001b[36m\u001b[1m♖\u001b[0m\n",
      "7 \u001b[36m\u001b[1m♙\u001b[0m \u001b[36m\u001b[1m♙\u001b[0m \u001b[36m\u001b[1m♙\u001b[0m \u001b[36m\u001b[1m♙\u001b[0m \u001b[36m\u001b[1m♙\u001b[0m \u001b[36m\u001b[1m♙\u001b[0m \u001b[36m\u001b[1m♙\u001b[0m \u001b[36m\u001b[1m♙\u001b[0m   \n",
      "6 ♢ ♢ ♢ ♢ ♢ ♢ ♢ ♢\n",
      "5 ♢ ♢ ♢ ♢ ♢ ♢ ♢ ♢\n",
      "4 ♢ ♢ ♢ ♢ ♢ ♢ ♢ ♢\n",
      "3 ♢ ♢ ♢ ♢ ♢ ♢ ♢ ♢\n",
      "2 ♟ ♟ ♟ ♟ ♟ ♟ ♟ ♟\n",
      "1 ♜ ♞ ♝ ♛ ♚ ♝ ♞ ♜   \n",
      "  A B C D E F G H\n",
      "\n",
      "------------------------------------------------------------------\n",
      "\n",
      "1.807475314999465\n",
      "1.435069379003835\n",
      "1.209806404003757\n"
     ]
    }
   ],
   "source": [
    "import sys, os\n",
    "sys.path.append(os.path.dirname(os.path.abspath('')))\n",
    "from src.board_state import BoardState\n",
    "from src.hueristic import Hueristic\n",
    "from src.utils import display\n",
    "import chess\n",
    "\n",
    "sep = '-'*20\n",
    "f = Hueristic()\n",
    "b = BoardState(fen = 'rnbqkbnr/pppppppp/8/8/8/8/PPPPPPPP/RNBQKBNR w KQkq - 0 1')\n",
    "c = chess.WHITE\n",
    "display(b)\n",
    "\n",
    "from chess import SquareSet as ss\n",
    "import timeit\n",
    "\n",
    "def count_pawns_bincnt():\n",
    "    return bin(b.kings & b.occupied_co[True]).count(\"1\")\n",
    "\n",
    "def count_pawns_ss():\n",
    "    return len(ss(b.kings & b.occupied_co[True]))\n",
    "\n",
    "def count_pawns():\n",
    "    c = 0\n",
    "    for _ in chess.scan_reversed((b.pawns & b.occupied_co[True])):\n",
    "        c+=1\n",
    "    return c\n",
    "def f2():\n",
    "    c = 0\n",
    "    x = b.kings & b.occupied_co[True]\n",
    "    while x:\n",
    "        c+=1\n",
    "        x&=x-1\n",
    "    return c\n",
    "    # return .bin_count()\n",
    "def f3():\n",
    "    return int(b.kings & b.occupied_co[True]).bit_count()\n",
    "print(timeit.timeit(count_pawns_bincnt, number=9000000))\n",
    "# print(timeit.timeit(count_pawns_ss, number=9000000))\n",
    "# print(timeit.timeit(count_pawns, number=9000000))\n",
    "print(timeit.timeit(f2, number=9000000))\n",
    "print(timeit.timeit(f3, number=9000000))"
   ]
  },
  {
   "cell_type": "code",
   "execution_count": null,
   "metadata": {},
   "outputs": [],
   "source": []
  }
 ],
 "metadata": {
  "kernelspec": {
   "display_name": "virtual_env_py37",
   "language": "python",
   "name": "python3"
  },
  "language_info": {
   "codemirror_mode": {
    "name": "ipython",
    "version": 3
   },
   "file_extension": ".py",
   "mimetype": "text/x-python",
   "name": "python",
   "nbconvert_exporter": "python",
   "pygments_lexer": "ipython3",
   "version": "3.10.11"
  },
  "orig_nbformat": 4
 },
 "nbformat": 4,
 "nbformat_minor": 2
}
