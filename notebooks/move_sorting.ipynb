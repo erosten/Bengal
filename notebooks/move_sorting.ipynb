{
 "cells": [
  {
   "cell_type": "code",
   "execution_count": 2,
   "metadata": {},
   "outputs": [
    {
     "name": "stdout",
     "output_type": "stream",
     "text": [
      "\n",
      "------------------------------------------------------------------\n",
      "\n",
      "\n",
      "8 ♢ ♢ ♢ ♢ ♢ ♢ ♢ ♢\n",
      "7 ♢ ♢ ♢ ♢ ♢ ♢ ♢ ♢   \n",
      "6 ♢ ♢ ♢ ♢ ♢ ♢ ♢ ♢\n",
      "5 ♢ ♢ \u001b[36m\u001b[1m♕\u001b[0m ♢ ♢ ♢ ♢ \u001b[36m\u001b[1m♙\u001b[0m\n",
      "4 ♢ ♞ ♢ ♢ \u001b[36m\u001b[1m♕\u001b[0m ♢ ♢ ♢\n",
      "3 ♢ ♢ ♢ ♟ ♢ ♢ ♢ ♜\n",
      "2 ♢ ♢ ♢ ♢ ♢ ♢ ♢ ♢\n",
      "1 ♢ ♢ ♢ ♢ ♢ ♢ ♢ ♢   \n",
      "  A B C D E F G H\n",
      "\n",
      "------------------------------------------------------------------\n",
      "\n",
      "[Move.from_uci('d3e4'), Move.from_uci('h3h5'), Move.from_uci('b4c6'), Move.from_uci('b4a6'), Move.from_uci('b4d5'), Move.from_uci('b4c2'), Move.from_uci('b4a2'), Move.from_uci('h3h4'), Move.from_uci('h3g3'), Move.from_uci('h3f3'), Move.from_uci('h3e3'), Move.from_uci('h3h2'), Move.from_uci('h3h1'), Move.from_uci('d3d4')]\n",
      "[]\n",
      "success: True, True\n"
     ]
    }
   ],
   "source": [
    "import sys, os\n",
    "sys.path.append(os.path.dirname(os.path.abspath('')))\n",
    "from src.board_state import BoardState\n",
    "from src.utils import display\n",
    "import chess\n",
    "\n",
    "sep = '-'*20\n",
    "b = BoardState(fen = '8/8/8/2q4p/1N2q3/3P3R/8/8 w - - 0 1')\n",
    "c = chess.WHITE\n",
    "display(b)\n",
    "\n",
    "cust = list(b.generate_sorted_moves())\n",
    "norm = list(b.legal_moves)\n",
    "print(cust)\n",
    "not_in = []\n",
    "for m in norm:\n",
    "    if m not in cust:\n",
    "        not_in.append(m)\n",
    "\n",
    "print(not_in)\n",
    "print(f'success: {len(not_in) == 0}, {len(cust) == len(norm)}')\n"
   ]
  },
  {
   "cell_type": "code",
   "execution_count": null,
   "metadata": {},
   "outputs": [
    {
     "name": "stdout",
     "output_type": "stream",
     "text": [
      "[Move.from_uci('b7b1'), Move.from_uci('b7h7'), Move.from_uci('b7g2'), Move.from_uci('b7a6')]\n"
     ]
    }
   ],
   "source": [
    "moves = list(get_non_quiescent_moves(b))\n",
    "print(moves)"
   ]
  },
  {
   "cell_type": "code",
   "execution_count": null,
   "metadata": {},
   "outputs": [],
   "source": []
  },
  {
   "cell_type": "code",
   "execution_count": null,
   "metadata": {},
   "outputs": [
    {
     "name": "stdout",
     "output_type": "stream",
     "text": [
      "[Move.from_uci('b7c8'), Move.from_uci('b7b8'), Move.from_uci('b7a8'), Move.from_uci('b7h7'), Move.from_uci('b7g7'), Move.from_uci('b7f7'), Move.from_uci('b7e7'), Move.from_uci('b7d7'), Move.from_uci('b7c7'), Move.from_uci('b7a7'), Move.from_uci('b7c6'), Move.from_uci('b7b6'), Move.from_uci('b7a6'), Move.from_uci('b7d5'), Move.from_uci('b7b5'), Move.from_uci('b7e4'), Move.from_uci('b7b4'), Move.from_uci('b7f3'), Move.from_uci('b7b3'), Move.from_uci('b7g2'), Move.from_uci('b7b2'), Move.from_uci('b7b1')]\n"
     ]
    }
   ],
   "source": [
    "print(list(b.legal_moves))"
   ]
  },
  {
   "cell_type": "code",
   "execution_count": null,
   "metadata": {},
   "outputs": [
    {
     "name": "stdout",
     "output_type": "stream",
     "text": [
      "[Move.from_uci('b7b1'), Move.from_uci('b7h7'), Move.from_uci('b7g2'), Move.from_uci('b7a6'), Move.from_uci('b7c8'), Move.from_uci('b7b8'), Move.from_uci('b7a8'), Move.from_uci('b7g7'), Move.from_uci('b7f7'), Move.from_uci('b7e7'), Move.from_uci('b7d7'), Move.from_uci('b7c7'), Move.from_uci('b7a7'), Move.from_uci('b7c6'), Move.from_uci('b7b6'), Move.from_uci('b7d5'), Move.from_uci('b7b5'), Move.from_uci('b7e4'), Move.from_uci('b7b4'), Move.from_uci('b7f3'), Move.from_uci('b7b3'), Move.from_uci('b7b2')]\n"
     ]
    }
   ],
   "source": [
    "print(get_sorted_moves(b))"
   ]
  }
 ],
 "metadata": {
  "kernelspec": {
   "display_name": "virtual_env_py37",
   "language": "python",
   "name": "python3"
  },
  "language_info": {
   "codemirror_mode": {
    "name": "ipython",
    "version": 3
   },
   "file_extension": ".py",
   "mimetype": "text/x-python",
   "name": "python",
   "nbconvert_exporter": "python",
   "pygments_lexer": "ipython3",
   "version": "3.7.5"
  },
  "orig_nbformat": 4
 },
 "nbformat": 4,
 "nbformat_minor": 2
}
